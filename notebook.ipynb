{
 "cells": [
  {
   "cell_type": "code",
   "execution_count": 1,
   "metadata": {},
   "outputs": [],
   "source": [
    "import spacy\n",
    "from spacy.training import Example\n",
    "from sklearn.model_selection import train_test_split\n",
    "from spacy.util import minibatch  # Import minibatch\n",
    "\n",
    "# Načtení základního modelu\n",
    "nlp = spacy.blank(\"cs\")\n",
    "\n",
    "# Přidání pipeline komponenty NER\n",
    "ner = nlp.add_pipe(\"ner\")"
   ]
  },
  {
   "cell_type": "code",
   "execution_count": 37,
   "metadata": {},
   "outputs": [],
   "source": [
    "TRAINING_DATA = [\n",
    "    (\"Vinařství Adámkovi J. a A. barva červená víno Chrupka ročník 2022 hodnocení 85\", {\n",
    "        \"entities\": [\n",
    "            (11, 23, \"Winery\"),  # Adámkovi J. a A.\n",
    "            (30, 37, \"Color\"),  # červená\n",
    "            (43, 50, \"Wine\"),  # Chrupka\n",
    "            (59, 63, \"Year\"),  # 2022\n",
    "            (74, 76, \"Rating\")  # 85\n",
    "        ]\n",
    "    }),\n",
    "    (\"Vinařství Charvát Zdeněk barva vína bílá víno Chardonnay rok 2024 body 87\", {\n",
    "        \"entities\": [\n",
    "            (11, 22, \"Winery\"),  # Charvát Zdeněk\n",
    "            (29, 34, \"Color\"),  # bílá\n",
    "            (40, 50, \"Wine\"),  # Chardonnay\n",
    "            (55, 59, \"Year\"),  # 2024\n",
    "            (65, 67, \"Rating\")  # 87\n",
    "        ]\n",
    "    }),\n",
    "    (\"barva vína bílá víno Ryzlink rýnský Vinařství Buchtík Zdeněk rok 2023 hodnocení 86\", {\n",
    "        \"entities\": [\n",
    "            (12, 17, \"Color\"),  # bílá\n",
    "            (23, 39, \"Wine\"),  # Ryzlink rýnský\n",
    "            (50, 62, \"Winery\"),  # Buchtík Zdeněk\n",
    "            (67, 71, \"Year\"),  # 2023\n",
    "            (82, 84, \"Rating\")  # 86\n",
    "        ]\n",
    "    })\n",
    "]\n"
   ]
  },
  {
   "cell_type": "code",
   "execution_count": 2,
   "metadata": {},
   "outputs": [
    {
     "name": "stdout",
     "output_type": "stream",
     "text": [
      "[('víno Ryzlink rýnský ročníku 2023 červená body 82 vinař Znovín Znojmo, a.s.', {'entities': [(55, 74, 'VINAŘSTVÍ'), (33, 40, 'BARVA'), (5, 19, 'VÍNO'), (28, 32, 'ROČNÍK'), (46, 48, 'HODNOCENÍ')]}), ('hodnocení 86 barvy bílá rok 2022 vino Pálava vinařství Hrdlička Ladislav', {'entities': [(55, 72, 'VINAŘSTVÍ'), (19, 23, 'BARVA'), (38, 44, 'VÍNO'), (28, 32, 'ROČNÍK'), (10, 12, 'HODNOCENÍ')]}), ('odrůda Ryzlink rýnský vinař Vinařství Kamil Osička rok 2022 bílá hodnocení 60', {'entities': [(28, 50, 'VINAŘSTVÍ'), (60, 64, 'BARVA'), (7, 21, 'VÍNO'), (55, 59, 'ROČNÍK'), (75, 77, 'HODNOCENÍ')]}), ('vinařství Vinařství Poppovi odrůda Modrý Portugal rok 2022 hodnocení 70 barva bílá', {'entities': [(10, 27, 'VINAŘSTVÍ'), (78, 82, 'BARVA'), (35, 49, 'VÍNO'), (54, 58, 'ROČNÍK'), (69, 71, 'HODNOCENÍ')]}), ('ročníku 2023 hodnocení 83 barva červená vinař Vinařství Hamala víno Sauvignon', {'entities': [(46, 62, 'VINAŘSTVÍ'), (32, 39, 'BARVA'), (68, 77, 'VÍNO'), (8, 12, 'ROČNÍK'), (23, 25, 'HODNOCENÍ')]}), ('barvy bílá ročníku 2020 body 65 víno Modrý Portugal vinařství Mrákava René', {'entities': [(62, 74, 'VINAŘSTVÍ'), (6, 10, 'BARVA'), (37, 51, 'VÍNO'), (19, 23, 'ROČNÍK'), (29, 31, 'HODNOCENÍ')]}), ('vinař Ryšavý Jan vino Veritas ročníku 2022 barvy růžová hodnocení 83', {'entities': [(6, 16, 'VINAŘSTVÍ'), (49, 55, 'BARVA'), (22, 29, 'VÍNO'), (38, 42, 'ROČNÍK'), (66, 68, 'HODNOCENÍ')]}), ('body nehodnoceno vinař Tasovické vinařství ročník 2022 vino Frankovka barvy růžová', {'entities': [(23, 42, 'VINAŘSTVÍ'), (76, 82, 'BARVA'), (60, 69, 'VÍNO'), (50, 54, 'ROČNÍK'), (5, 16, 'HODNOCENÍ')]}), ('ročník 2022 odrůda Semillon vinař Vinařství Hamala hodnocení 78 červená', {'entities': [(34, 50, 'VINAŘSTVÍ'), (64, 71, 'BARVA'), (19, 27, 'VÍNO'), (7, 11, 'ROČNÍK'), (61, 63, 'HODNOCENÍ')]}), ('červená hodnocení 83 vino Veltlínské zelené vinařství Vinařství Kamil Osička ročník 2022', {'entities': [(54, 76, 'VINAŘSTVÍ'), (0, 7, 'BARVA'), (26, 43, 'VÍNO'), (84, 88, 'ROČNÍK'), (18, 20, 'HODNOCENÍ')]}), ('ročník 2022 vinař Černá Jitka body 87 barva růžová víno Neronet', {'entities': [(18, 29, 'VINAŘSTVÍ'), (44, 50, 'BARVA'), (56, 63, 'VÍNO'), (7, 11, 'ROČNÍK'), (35, 37, 'HODNOCENÍ')]}), ('víno Rulandské šedé rok 2023 vinařství Faltus Jiří růžová hodnocení 89', {'entities': [(39, 50, 'VINAŘSTVÍ'), (51, 57, 'BARVA'), (5, 19, 'VÍNO'), (24, 28, 'ROČNÍK'), (68, 70, 'HODNOCENÍ')]}), ('bílá hodnocení 83 vinař Černá Jitka vino Sauvignon rok 2016', {'entities': [(24, 35, 'VINAŘSTVÍ'), (0, 4, 'BARVA'), (41, 50, 'VÍNO'), (55, 59, 'ROČNÍK'), (15, 17, 'HODNOCENÍ')]}), ('odrůda Dornfelder body 83 vinařství Bělehrádek Lubomír ročník 2022 barvy červená', {'entities': [(36, 54, 'VINAŘSTVÍ'), (73, 80, 'BARVA'), (7, 17, 'VÍNO'), (62, 66, 'ROČNÍK'), (23, 25, 'HODNOCENÍ')]}), ('vino Muškát moravský bílá ročníku 2022 body 88 vinař Vinařství Jan Plaček', {'entities': [(53, 73, 'VINAŘSTVÍ'), (21, 25, 'BARVA'), (5, 20, 'VÍNO'), (34, 38, 'ROČNÍK'), (44, 46, 'HODNOCENÍ')]}), ('hodnocení 91 ročníku 2022 barvy růžová vinařství Vinařství Olejník vino Frankovka', {'entities': [(49, 66, 'VINAŘSTVÍ'), (32, 38, 'BARVA'), (72, 81, 'VÍNO'), (21, 25, 'ROČNÍK'), (10, 12, 'HODNOCENÍ')]}), ('vinař Vinařství Vystoupil barva červená ročník 2022 odrůda Rulandské šedé body 85', {'entities': [(6, 25, 'VINAŘSTVÍ'), (32, 39, 'BARVA'), (59, 73, 'VÍNO'), (47, 51, 'ROČNÍK'), (79, 81, 'HODNOCENÍ')]}), ('barva bílá vinař Mrákava René vino Rulandské šedé hodnocení 71 ročníku 2021', {'entities': [(17, 29, 'VINAŘSTVÍ'), (6, 10, 'BARVA'), (35, 49, 'VÍNO'), (71, 75, 'ROČNÍK'), (60, 62, 'HODNOCENÍ')]}), ('ročníku 2022 vinař Víno z Trboušan odrůda Merlot body 88 barva růžová', {'entities': [(19, 34, 'VINAŘSTVÍ'), (63, 69, 'BARVA'), (42, 48, 'VÍNO'), (8, 12, 'ROČNÍK'), (54, 56, 'HODNOCENÍ')]}), ('vino Sauvignon rok 2012 body 70 vinař Dvořák Zdeněk červená', {'entities': [(38, 51, 'VINAŘSTVÍ'), (52, 59, 'BARVA'), (5, 14, 'VÍNO'), (19, 23, 'ROČNÍK'), (29, 31, 'HODNOCENÍ')]}), ('vinařství Víno Pokorný hodnocení 77 vino Hibernal ročník 2022 bílá', {'entities': [(10, 22, 'VINAŘSTVÍ'), (62, 66, 'BARVA'), (41, 49, 'VÍNO'), (57, 61, 'ROČNÍK'), (33, 35, 'HODNOCENÍ')]}), ('barvy růžová ročníku 2022 hodnocení 83 vinařství Klement Pavel vino Chardonnay', {'entities': [(49, 62, 'VINAŘSTVÍ'), (6, 12, 'BARVA'), (68, 78, 'VÍNO'), (21, 25, 'ROČNÍK'), (36, 38, 'HODNOCENÍ')]}), ('odrůda Rulandské šedé vinař Cukr Josef červená ročník 2008 hodnocení 77', {'entities': [(28, 38, 'VINAŘSTVÍ'), (39, 46, 'BARVA'), (7, 21, 'VÍNO'), (54, 58, 'ROČNÍK'), (69, 71, 'HODNOCENÍ')]}), ('vinařství Macháček Pavel růžová ročník 2021 hodnocení 88 vino Ryzlink vlašský', {'entities': [(10, 24, 'VINAŘSTVÍ'), (25, 31, 'BARVA'), (62, 77, 'VÍNO'), (39, 43, 'ROČNÍK'), (54, 56, 'HODNOCENÍ')]}), ('vino Cabernet Sauvignon vinař Kopeček František ročníku 2023 barvy červená body 76', {'entities': [(30, 47, 'VINAŘSTVÍ'), (67, 74, 'BARVA'), (5, 23, 'VÍNO'), (56, 60, 'ROČNÍK'), (80, 82, 'HODNOCENÍ')]}), ('vinař Pavlas Jan rok 2023 červená body 80 vino Ryzlink vlašský', {'entities': [(6, 16, 'VINAŘSTVÍ'), (26, 33, 'BARVA'), (47, 62, 'VÍNO'), (21, 25, 'ROČNÍK'), (39, 41, 'HODNOCENÍ')]}), ('barva bílá ročníku 2021 víno Müller Thurgau vinař Janda Lubomír body 78', {'entities': [(50, 63, 'VINAŘSTVÍ'), (6, 10, 'BARVA'), (29, 43, 'VÍNO'), (19, 23, 'ROČNÍK'), (69, 71, 'HODNOCENÍ')]}), ('vinařství Vinařství Košulič body 84 víno Merlot barvy bílá ročník 2022', {'entities': [(10, 27, 'VINAŘSTVÍ'), (54, 58, 'BARVA'), (41, 47, 'VÍNO'), (66, 70, 'ROČNÍK'), (33, 35, 'HODNOCENÍ')]}), ('víno Ryzlink vlašský vinařství Šťastné Vinařství červená ročníku 2021 hodnocení 86', {'entities': [(31, 48, 'VINAŘSTVÍ'), (49, 56, 'BARVA'), (5, 20, 'VÍNO'), (65, 69, 'ROČNÍK'), (80, 82, 'HODNOCENÍ')]}), ('ročník 2022 hodnocení 82 vinař Vinařství Buriánkovi víno Muškát Ottonel barva bílá', {'entities': [(31, 51, 'VINAŘSTVÍ'), (78, 82, 'BARVA'), (57, 71, 'VÍNO'), (7, 11, 'ROČNÍK'), (22, 24, 'HODNOCENÍ')]}), ('rok 2022 vinařství Víno Tichý bílá víno Veltlínské zelené hodnocení 83', {'entities': [(19, 29, 'VINAŘSTVÍ'), (30, 34, 'BARVA'), (40, 57, 'VÍNO'), (4, 8, 'ROČNÍK'), (68, 70, 'HODNOCENÍ')]}), ('rok 2022 vinař Vinařství Roman Komarov odrůda Veltlínské zelené bílá hodnocení 82', {'entities': [(15, 38, 'VINAŘSTVÍ'), (64, 68, 'BARVA'), (46, 63, 'VÍNO'), (4, 8, 'ROČNÍK'), (79, 81, 'HODNOCENÍ')]}), ('rok 2022 barvy červená vinař Janda Lubomír víno Helios hodnocení 82', {'entities': [(29, 42, 'VINAŘSTVÍ'), (15, 22, 'BARVA'), (48, 54, 'VÍNO'), (4, 8, 'ROČNÍK'), (65, 67, 'HODNOCENÍ')]}), ('odrůda Chardonnay vinařství Slanina Jan ročníku 2022 hodnocení 88 barva bílá', {'entities': [(28, 39, 'VINAŘSTVÍ'), (72, 76, 'BARVA'), (7, 17, 'VÍNO'), (48, 52, 'ROČNÍK'), (63, 65, 'HODNOCENÍ')]}), ('hodnocení 87 ročník 2017 vinař Kapp Rudolf vino Ryzlink rýnský červená', {'entities': [(31, 42, 'VINAŘSTVÍ'), (63, 70, 'BARVA'), (48, 62, 'VÍNO'), (20, 24, 'ROČNÍK'), (10, 12, 'HODNOCENÍ')]}), ('odrůda Pálava vinař Paulík Josef body 78 růžová ročník 2021', {'entities': [(20, 32, 'VINAŘSTVÍ'), (41, 47, 'BARVA'), (7, 13, 'VÍNO'), (55, 59, 'ROČNÍK'), (38, 40, 'HODNOCENÍ')]}), ('barva bílá body 83 ročník 2020 vinařství Richter Jaromír vino Hibernal', {'entities': [(41, 56, 'VINAŘSTVÍ'), (6, 10, 'BARVA'), (62, 70, 'VÍNO'), (26, 30, 'ROČNÍK'), (16, 18, 'HODNOCENÍ')]}), ('ročníku 2023 růžová hodnocení 86 vinař Vranka Libor víno Muškát moravský', {'entities': [(39, 51, 'VINAŘSTVÍ'), (13, 19, 'BARVA'), (57, 72, 'VÍNO'), (8, 12, 'ROČNÍK'), (30, 32, 'HODNOCENÍ')]}), ('vino Bianca ročníku 2022 vinařství Štolfa Antonín + Petr hodnocení 75 růžová', {'entities': [(35, 56, 'VINAŘSTVÍ'), (70, 76, 'BARVA'), (5, 11, 'VÍNO'), (20, 24, 'ROČNÍK'), (67, 69, 'HODNOCENÍ')]}), ('vino Rulandské šedé vinař Kořenek winary s.r.o. barvy bílá ročník 2021 body 65', {'entities': [(26, 47, 'VINAŘSTVÍ'), (54, 58, 'BARVA'), (5, 19, 'VÍNO'), (66, 70, 'ROČNÍK'), (76, 78, 'HODNOCENÍ')]}), ('ročníku 2021 vinař Vinařství Buriánkovi odrůda Veltlínské zelené barvy růžová body 65', {'entities': [(19, 39, 'VINAŘSTVÍ'), (71, 77, 'BARVA'), (47, 64, 'VÍNO'), (8, 12, 'ROČNÍK'), (83, 85, 'HODNOCENÍ')]}), ('vinařství Smejkal Jan bílá body 88 ročníku 2020 vino Sauvignon', {'entities': [(10, 21, 'VINAŘSTVÍ'), (22, 26, 'BARVA'), (53, 62, 'VÍNO'), (43, 47, 'ROČNÍK'), (32, 34, 'HODNOCENÍ')]}), ('barvy bílá ročník 2022 vino Pálava hodnocení 89 vinař Vinařství Kamil Osička', {'entities': [(54, 76, 'VINAŘSTVÍ'), (6, 10, 'BARVA'), (28, 34, 'VÍNO'), (18, 22, 'ROČNÍK'), (45, 47, 'HODNOCENÍ')]}), ('vinařství Víno z Trboušan ročníku 2021 vino Rulandské šedé barvy bílá body 83', {'entities': [(10, 25, 'VINAŘSTVÍ'), (65, 69, 'BARVA'), (44, 58, 'VÍNO'), (34, 38, 'ROČNÍK'), (75, 77, 'HODNOCENÍ')]}), ('body 80 odrůda Tramín červený ročníku 2022 bílá vinařství Vinařství Kamil Osička', {'entities': [(58, 80, 'VINAŘSTVÍ'), (43, 47, 'BARVA'), (15, 29, 'VÍNO'), (38, 42, 'ROČNÍK'), (5, 7, 'HODNOCENÍ')]}), ('vinař Kapp Rudolf víno Svatovavřinecké barva bílá ročník 2022 body 80', {'entities': [(6, 17, 'VINAŘSTVÍ'), (45, 49, 'BARVA'), (23, 38, 'VÍNO'), (57, 61, 'ROČNÍK'), (67, 69, 'HODNOCENÍ')]}), ('hodnocení 80 barvy růžová víno Frankovka vinařství Vinařství Rathouzský ročníku 2021', {'entities': [(51, 71, 'VINAŘSTVÍ'), (19, 25, 'BARVA'), (31, 40, 'VÍNO'), (80, 84, 'ROČNÍK'), (10, 12, 'HODNOCENÍ')]}), ('rok 2022 body 88 víno Ryzlink rýnský vinař Vinařství Košulič barvy bílá', {'entities': [(43, 60, 'VINAŘSTVÍ'), (67, 71, 'BARVA'), (22, 36, 'VÍNO'), (4, 8, 'ROČNÍK'), (14, 16, 'HODNOCENÍ')]}), ('vinařství Slanina Jan vino Ryzlink rýnský rok 2020 barva červená hodnocení 72', {'entities': [(10, 21, 'VINAŘSTVÍ'), (57, 64, 'BARVA'), (27, 41, 'VÍNO'), (46, 50, 'ROČNÍK'), (75, 77, 'HODNOCENÍ')]}), ('rok 2020 vinařství Radovan František body 84 barva červená víno Rulandské bílé', {'entities': [(19, 36, 'VINAŘSTVÍ'), (51, 58, 'BARVA'), (64, 78, 'VÍNO'), (4, 8, 'ROČNÍK'), (42, 44, 'HODNOCENÍ')]}), ('vinař Měřinský Petr hodnocení 78 barva růžová ročník 2022 vino Hibernal', {'entities': [(6, 19, 'VINAŘSTVÍ'), (39, 45, 'BARVA'), (63, 71, 'VÍNO'), (53, 57, 'ROČNÍK'), (30, 32, 'HODNOCENÍ')]}), ('ročník 2020 vino Ryzlink rýnský bílá vinařství Richter Jaromír hodnocení 73', {'entities': [(47, 62, 'VINAŘSTVÍ'), (32, 36, 'BARVA'), (17, 31, 'VÍNO'), (7, 11, 'ROČNÍK'), (73, 75, 'HODNOCENÍ')]}), ('vinař Knápek & Machů bílá rok 2021 body 85 víno Veltlínské zelené', {'entities': [(6, 20, 'VINAŘSTVÍ'), (21, 25, 'BARVA'), (48, 65, 'VÍNO'), (30, 34, 'ROČNÍK'), (40, 42, 'HODNOCENÍ')]}), ('vinař Huška Tomáš barva červená body 89 vino Muscaris ročníku 2022', {'entities': [(6, 17, 'VINAŘSTVÍ'), (24, 31, 'BARVA'), (45, 53, 'VÍNO'), (62, 66, 'ROČNÍK'), (37, 39, 'HODNOCENÍ')]}), ('víno Pálava vinařství Turčínek Pavel hodnocení 86 barvy červená ročníku 2022', {'entities': [(22, 36, 'VINAŘSTVÍ'), (56, 63, 'BARVA'), (5, 11, 'VÍNO'), (72, 76, 'ROČNÍK'), (47, 49, 'HODNOCENÍ')]}), ('barvy bílá rok 2020 body 79 vinař Vinné sklepy Maršovice víno Frankovka', {'entities': [(34, 56, 'VINAŘSTVÍ'), (6, 10, 'BARVA'), (62, 71, 'VÍNO'), (15, 19, 'ROČNÍK'), (25, 27, 'HODNOCENÍ')]}), ('barva bílá rok 2023 vinař Víno z Trboušan víno Veltlínské zelené hodnocení 75', {'entities': [(26, 41, 'VINAŘSTVÍ'), (6, 10, 'BARVA'), (47, 64, 'VÍNO'), (15, 19, 'ROČNÍK'), (75, 77, 'HODNOCENÍ')]}), ('bílá hodnocení 81 vinařství Vinařství Košulič vino Ryzlink rýnský rok 2022', {'entities': [(28, 45, 'VINAŘSTVÍ'), (0, 4, 'BARVA'), (51, 65, 'VÍNO'), (70, 74, 'ROČNÍK'), (15, 17, 'HODNOCENÍ')]}), ('body 81 bílá vino Rulandské šedé vinařství Strouhal Oldřich ročníku 2022', {'entities': [(43, 59, 'VINAŘSTVÍ'), (8, 12, 'BARVA'), (18, 32, 'VÍNO'), (68, 72, 'ROČNÍK'), (5, 7, 'HODNOCENÍ')]}), ('rok 2020 víno Chardonnay vinař Rumanovi - Mayer hodnocení 87 červená', {'entities': [(31, 47, 'VINAŘSTVÍ'), (61, 68, 'BARVA'), (14, 24, 'VÍNO'), (4, 8, 'ROČNÍK'), (58, 60, 'HODNOCENÍ')]}), ('vinařství Vinařství Frapa hodnocení 78 ročník 2023 odrůda Ryzlink vlašský barva růžová', {'entities': [(10, 25, 'VINAŘSTVÍ'), (80, 86, 'BARVA'), (58, 73, 'VÍNO'), (46, 50, 'ROČNÍK'), (36, 38, 'HODNOCENÍ')]}), ('růžová vinařství Zmrzlý Zdeněk hodnocení 81 víno Veltlínské zelené ročník 2022', {'entities': [(17, 30, 'VINAŘSTVÍ'), (0, 6, 'BARVA'), (49, 66, 'VÍNO'), (74, 78, 'ROČNÍK'), (41, 43, 'HODNOCENÍ')]}), ('vino Ryzlink vlašský vinařství Klement Pavel barvy červená ročníku 2022 body 86', {'entities': [(31, 44, 'VINAŘSTVÍ'), (51, 58, 'BARVA'), (5, 20, 'VÍNO'), (67, 71, 'ROČNÍK'), (77, 79, 'HODNOCENÍ')]}), ('hodnocení 79 ročník 2022 vinařství Durník V. barvy červená odrůda Zweigeltrebe', {'entities': [(35, 44, 'VINAŘSTVÍ'), (51, 58, 'BARVA'), (66, 78, 'VÍNO'), (20, 24, 'ROČNÍK'), (10, 12, 'HODNOCENÍ')]}), ('barvy růžová vinař Vinařství Lažek víno Veltlínské zelené body 71 ročník 2022', {'entities': [(19, 34, 'VINAŘSTVÍ'), (6, 12, 'BARVA'), (40, 57, 'VÍNO'), (73, 77, 'ROČNÍK'), (63, 65, 'HODNOCENÍ')]}), ('barva červená vinařství Slanina Jan body 84 odrůda Tramín červený rok 2021', {'entities': [(24, 35, 'VINAŘSTVÍ'), (6, 13, 'BARVA'), (51, 65, 'VÍNO'), (70, 74, 'ROČNÍK'), (41, 43, 'HODNOCENÍ')]}), ('ročníku 2020 červená vino Sauvignon blanc hodnocení 65 vinařství Špíšek Milan', {'entities': [(65, 77, 'VINAŘSTVÍ'), (13, 20, 'BARVA'), (26, 41, 'VÍNO'), (8, 12, 'ROČNÍK'), (52, 54, 'HODNOCENÍ')]}), ('ročníku 2021 barva bílá vino Zweigeltrebe body 62 vinař Vinařství Vystoupil', {'entities': [(56, 75, 'VINAŘSTVÍ'), (19, 23, 'BARVA'), (29, 41, 'VÍNO'), (8, 12, 'ROČNÍK'), (47, 49, 'HODNOCENÍ')]}), ('ročníku 2021 vinařství Vinný skípek u Hanzelů odrůda Solaris body 70 červená', {'entities': [(23, 45, 'VINAŘSTVÍ'), (69, 76, 'BARVA'), (53, 60, 'VÍNO'), (8, 12, 'ROČNÍK'), (66, 68, 'HODNOCENÍ')]}), ('ročník 2022 vinař Janda Lubomír víno Pálava barva růžová hodnocení 83', {'entities': [(18, 31, 'VINAŘSTVÍ'), (50, 56, 'BARVA'), (37, 43, 'VÍNO'), (7, 11, 'ROČNÍK'), (67, 69, 'HODNOCENÍ')]}), ('ročníku 2022 vinař Janda Lubomír hodnocení 83 barvy bílá víno Muscaris', {'entities': [(19, 32, 'VINAŘSTVÍ'), (52, 56, 'BARVA'), (62, 70, 'VÍNO'), (8, 12, 'ROČNÍK'), (43, 45, 'HODNOCENÍ')]}), ('rok 2021 vinařství Mrkvica Milan vino Sauvignon hodnocení 67 červená', {'entities': [(19, 32, 'VINAŘSTVÍ'), (61, 68, 'BARVA'), (38, 47, 'VÍNO'), (4, 8, 'ROČNÍK'), (58, 60, 'HODNOCENÍ')]}), ('ročník 2022 vinař Lambeck, s.r.o. barva červená odrůda Hibernal hodnocení 79', {'entities': [(18, 33, 'VINAŘSTVÍ'), (40, 47, 'BARVA'), (55, 63, 'VÍNO'), (7, 11, 'ROČNÍK'), (74, 76, 'HODNOCENÍ')]}), ('odrůda Svatovavřinecké barva bílá vinař Tasovické vinařství rok 2023 body 76', {'entities': [(40, 59, 'VINAŘSTVÍ'), (29, 33, 'BARVA'), (7, 22, 'VÍNO'), (64, 68, 'ROČNÍK'), (74, 76, 'HODNOCENÍ')]}), ('odrůda Müller Thurgau ročník 2022 barva červená vinařství Weiss Petr body 62', {'entities': [(58, 68, 'VINAŘSTVÍ'), (40, 47, 'BARVA'), (7, 21, 'VÍNO'), (29, 33, 'ROČNÍK'), (74, 76, 'HODNOCENÍ')]}), ('hodnocení 82 barva růžová rok 2021 odrůda Muškát moravský vinař Špillar František', {'entities': [(64, 81, 'VINAŘSTVÍ'), (19, 25, 'BARVA'), (42, 57, 'VÍNO'), (30, 34, 'ROČNÍK'), (10, 12, 'HODNOCENÍ')]}), ('víno Ryzlink rýnský barvy bílá vinařství Huška Tomáš rok 2020 body 82', {'entities': [(41, 52, 'VINAŘSTVÍ'), (26, 30, 'BARVA'), (5, 19, 'VÍNO'), (57, 61, 'ROČNÍK'), (67, 69, 'HODNOCENÍ')]}), ('barvy růžová vinař Vinařství Frapa rok 2022 odrůda Pálava hodnocení 84', {'entities': [(19, 34, 'VINAŘSTVÍ'), (6, 12, 'BARVA'), (51, 57, 'VÍNO'), (39, 43, 'ROČNÍK'), (68, 70, 'HODNOCENÍ')]}), ('hodnocení 73 vinařství Sýkora Josef vino Veltlínské červené rané rok 2022 barva červená', {'entities': [(23, 35, 'VINAŘSTVÍ'), (80, 87, 'BARVA'), (41, 64, 'VÍNO'), (69, 73, 'ROČNÍK'), (10, 12, 'HODNOCENÍ')]}), ('červená ročník 2022 hodnocení 70 vinařství Vinařství Olejník odrůda Hibernal', {'entities': [(43, 60, 'VINAŘSTVÍ'), (0, 7, 'BARVA'), (68, 76, 'VÍNO'), (15, 19, 'ROČNÍK'), (30, 32, 'HODNOCENÍ')]}), ('barva červená víno Reichensteiner hodnocení 81 rok 2022 vinař Slanina Jan', {'entities': [(62, 73, 'VINAŘSTVÍ'), (6, 13, 'BARVA'), (19, 33, 'VÍNO'), (51, 55, 'ROČNÍK'), (44, 46, 'HODNOCENÍ')]}), ('ročníku 2021 vinařství Vinařství u Stehlíků barva červená odrůda Ryzlink rýnský body 84', {'entities': [(23, 43, 'VINAŘSTVÍ'), (50, 57, 'BARVA'), (65, 79, 'VÍNO'), (8, 12, 'ROČNÍK'), (85, 87, 'HODNOCENÍ')]}), ('hodnocení 74 barva červená odrůda Blauburger ročník 2022 vinař Huška Tomáš', {'entities': [(63, 74, 'VINAŘSTVÍ'), (19, 26, 'BARVA'), (34, 44, 'VÍNO'), (52, 56, 'ROČNÍK'), (10, 12, 'HODNOCENÍ')]}), ('barvy růžová hodnocení 86 ročník 2022 víno Svatovavřinecké vinař Tejkal Miloš', {'entities': [(65, 77, 'VINAŘSTVÍ'), (6, 12, 'BARVA'), (43, 58, 'VÍNO'), (33, 37, 'ROČNÍK'), (23, 25, 'HODNOCENÍ')]}), ('vinařství Lambeck, s.r.o. barvy růžová vino Dornfelder hodnocení 82 ročník 2020', {'entities': [(10, 25, 'VINAŘSTVÍ'), (32, 38, 'BARVA'), (44, 54, 'VÍNO'), (75, 79, 'ROČNÍK'), (65, 67, 'HODNOCENÍ')]}), ('červená rok 2022 hodnocení 87 odrůda Irsai Oliver vinař Švehlík Zbyněk', {'entities': [(56, 70, 'VINAŘSTVÍ'), (0, 7, 'BARVA'), (37, 49, 'VÍNO'), (12, 16, 'ROČNÍK'), (27, 29, 'HODNOCENÍ')]}), ('barva bílá odrůda Ryzlink rýnský vinař Znovín Znojmo, a.s. body 78 ročník 2021', {'entities': [(39, 58, 'VINAŘSTVÍ'), (6, 10, 'BARVA'), (18, 32, 'VÍNO'), (74, 78, 'ROČNÍK'), (64, 66, 'HODNOCENÍ')]}), ('ročníku 2021 vinař Musil Miroslav bílá víno Cabernet Sauvignon hodnocení 62', {'entities': [(19, 33, 'VINAŘSTVÍ'), (34, 38, 'BARVA'), (44, 62, 'VÍNO'), (8, 12, 'ROČNÍK'), (73, 75, 'HODNOCENÍ')]}), ('vinařství Zmrzlý Zdeněk ročník 2020 bílá vino Zweigeltrebe body 88', {'entities': [(10, 23, 'VINAŘSTVÍ'), (36, 40, 'BARVA'), (46, 58, 'VÍNO'), (31, 35, 'ROČNÍK'), (64, 66, 'HODNOCENÍ')]}), ('víno Sauvignon vinařství Endlicher Karel ročník 2018 body 75 barvy červená', {'entities': [(25, 40, 'VINAŘSTVÍ'), (67, 74, 'BARVA'), (5, 14, 'VÍNO'), (48, 52, 'ROČNÍK'), (58, 60, 'HODNOCENÍ')]}), ('hodnocení 76 odrůda Zweigeltrebe barvy červená vinařství Vinařství Košulič ročníku 2022', {'entities': [(57, 74, 'VINAŘSTVÍ'), (39, 46, 'BARVA'), (20, 32, 'VÍNO'), (83, 87, 'ROČNÍK'), (10, 12, 'HODNOCENÍ')]}), ('vinařství Špíšek Milan barvy růžová rok 2022 hodnocení 76 vino Tramín červený', {'entities': [(10, 22, 'VINAŘSTVÍ'), (29, 35, 'BARVA'), (63, 77, 'VÍNO'), (40, 44, 'ROČNÍK'), (55, 57, 'HODNOCENÍ')]}), ('růžová rok 2022 vinařství Vinařství Sonberk body 80 vino Chorvát', {'entities': [(26, 43, 'VINAŘSTVÍ'), (0, 6, 'BARVA'), (57, 64, 'VÍNO'), (11, 15, 'ROČNÍK'), (49, 51, 'HODNOCENÍ')]}), ('odrůda Ryzlink rýnský vinař Šťastné Vinařství barvy bílá ročníku 2021 hodnocení 82', {'entities': [(28, 45, 'VINAŘSTVÍ'), (52, 56, 'BARVA'), (7, 21, 'VÍNO'), (65, 69, 'ROČNÍK'), (80, 82, 'HODNOCENÍ')]}), ('vinařství Mrákava René rok 2020 barva červená víno Pálava hodnocení 78', {'entities': [(10, 22, 'VINAŘSTVÍ'), (38, 45, 'BARVA'), (51, 57, 'VÍNO'), (27, 31, 'ROČNÍK'), (68, 70, 'HODNOCENÍ')]}), ('vinař Vinařství Vystoupil ročníku 2020 víno Svatovavřinecké barvy růžová body 84', {'entities': [(6, 25, 'VINAŘSTVÍ'), (66, 72, 'BARVA'), (44, 59, 'VÍNO'), (34, 38, 'ROČNÍK'), (78, 80, 'HODNOCENÍ')]}), ('body 78 barva červená víno Zweigeltrebe ročníku 2022 vinařství Radovan František', {'entities': [(63, 80, 'VINAŘSTVÍ'), (14, 21, 'BARVA'), (27, 39, 'VÍNO'), (48, 52, 'ROČNÍK'), (5, 7, 'HODNOCENÍ')]}), ('růžová ročník 2022 vinař Vinařství u Stehlíků odrůda Svatovavřinecké body 85', {'entities': [(25, 45, 'VINAŘSTVÍ'), (0, 6, 'BARVA'), (53, 68, 'VÍNO'), (14, 18, 'ROČNÍK'), (74, 76, 'HODNOCENÍ')]}), ('rok 2021 barva červená hodnocení 85 vino směs vinařství Konečný Ladislav', {'entities': [(56, 72, 'VINAŘSTVÍ'), (15, 22, 'BARVA'), (41, 45, 'VÍNO'), (4, 8, 'ROČNÍK'), (33, 35, 'HODNOCENÍ')]}), ('hodnocení 75 vinař Víno Mikulenčák barvy růžová rok 2022 víno Hibernal', {'entities': [(19, 34, 'VINAŘSTVÍ'), (41, 47, 'BARVA'), (62, 70, 'VÍNO'), (52, 56, 'ROČNÍK'), (10, 12, 'HODNOCENÍ')]}), ('barvy růžová vino Pálava body 88 vinař Janda Lubomír rok 2021', {'entities': [(39, 52, 'VINAŘSTVÍ'), (6, 12, 'BARVA'), (18, 24, 'VÍNO'), (57, 61, 'ROČNÍK'), (30, 32, 'HODNOCENÍ')]}), ('vino Zweigeltrebe barva bílá vinařství Huška Tomáš hodnocení 86 ročník 2022', {'entities': [(39, 50, 'VINAŘSTVÍ'), (24, 28, 'BARVA'), (5, 17, 'VÍNO'), (71, 75, 'ROČNÍK'), (61, 63, 'HODNOCENÍ')]}), ('vinař Švehlík Zbyněk víno Veltlínské zelené červená ročníku 2022 body 88', {'entities': [(6, 20, 'VINAŘSTVÍ'), (44, 51, 'BARVA'), (26, 43, 'VÍNO'), (60, 64, 'ROČNÍK'), (70, 72, 'HODNOCENÍ')]}), ('odrůda Cabernet Blanc rok 2022 barva růžová hodnocení 82 vinař Lambeck, s.r.o.', {'entities': [(63, 78, 'VINAŘSTVÍ'), (37, 43, 'BARVA'), (7, 21, 'VÍNO'), (26, 30, 'ROČNÍK'), (54, 56, 'HODNOCENÍ')]}), ('vinařství Šťastné Vinařství barvy červená vino Solaris ročníku 2022 hodnocení 70', {'entities': [(10, 27, 'VINAŘSTVÍ'), (34, 41, 'BARVA'), (47, 54, 'VÍNO'), (63, 67, 'ROČNÍK'), (78, 80, 'HODNOCENÍ')]}), ('víno Müller Thurgau rok 2019 vinařství Víno Mikulenčák barvy růžová body 83', {'entities': [(39, 54, 'VINAŘSTVÍ'), (61, 67, 'BARVA'), (5, 19, 'VÍNO'), (24, 28, 'ROČNÍK'), (73, 75, 'HODNOCENÍ')]}), ('body 84 ročníku 2022 vinařství Turčínek Pavel vino Rulandské bílé bílá', {'entities': [(31, 45, 'VINAŘSTVÍ'), (66, 70, 'BARVA'), (51, 65, 'VÍNO'), (16, 20, 'ROČNÍK'), (5, 7, 'HODNOCENÍ')]}), ('hodnocení 85 vinařství Vinařství Košulič rok 2021 růžová víno Veltlínské červené rané', {'entities': [(23, 40, 'VINAŘSTVÍ'), (50, 56, 'BARVA'), (62, 85, 'VÍNO'), (45, 49, 'ROČNÍK'), (10, 12, 'HODNOCENÍ')]}), ('ročníku 2021 víno Zweigeltrebe body 73 barvy červená vinař Kratochvíl František ml.', {'entities': [(59, 83, 'VINAŘSTVÍ'), (45, 52, 'BARVA'), (18, 30, 'VÍNO'), (8, 12, 'ROČNÍK'), (36, 38, 'HODNOCENÍ')]}), ('ročník 2022 vino Cabernet Sauvignon vinař Špíšek Milan barvy bílá body 70', {'entities': [(42, 54, 'VINAŘSTVÍ'), (61, 65, 'BARVA'), (17, 35, 'VÍNO'), (7, 11, 'ROČNÍK'), (71, 73, 'HODNOCENÍ')]}), ('hodnocení 69 červená vino Ryzlink vlašský ročník 2022 vinařství Vinařství Jan Plaček', {'entities': [(64, 84, 'VINAŘSTVÍ'), (13, 20, 'BARVA'), (26, 41, 'VÍNO'), (49, 53, 'ROČNÍK'), (10, 12, 'HODNOCENÍ')]}), ('vinař Smištík P + J body 76 víno Veltlínské zelené barva bílá ročník 2022', {'entities': [(6, 19, 'VINAŘSTVÍ'), (57, 61, 'BARVA'), (33, 50, 'VÍNO'), (69, 73, 'ROČNÍK'), (25, 27, 'HODNOCENÍ')]}), ('barvy růžová vinař Vranka Libor ročník 2021 vino Ryzlink rýnský body 81', {'entities': [(19, 31, 'VINAŘSTVÍ'), (6, 12, 'BARVA'), (49, 63, 'VÍNO'), (39, 43, 'ROČNÍK'), (69, 71, 'HODNOCENÍ')]}), ('body 78 ročníku 2022 vino Zweigeltrebe vinařství Klement Pavel růžová', {'entities': [(49, 62, 'VINAŘSTVÍ'), (63, 69, 'BARVA'), (26, 38, 'VÍNO'), (16, 20, 'ROČNÍK'), (5, 7, 'HODNOCENÍ')]}), ('ročníku 2019 červená vino Rulandské šedé vinařství Vinařství Buriánkovi body 88', {'entities': [(51, 71, 'VINAŘSTVÍ'), (13, 20, 'BARVA'), (26, 40, 'VÍNO'), (8, 12, 'ROČNÍK'), (77, 79, 'HODNOCENÍ')]}), ('barva růžová vinařství Víno Tichý body 78 vino Solaris rok 2023', {'entities': [(23, 33, 'VINAŘSTVÍ'), (6, 12, 'BARVA'), (47, 54, 'VÍNO'), (59, 63, 'ROČNÍK'), (39, 41, 'HODNOCENÍ')]}), ('ročníku 2022 body 81 vinař Rumanovi - Mayer odrůda Rulandské šedé bílá', {'entities': [(27, 43, 'VINAŘSTVÍ'), (66, 70, 'BARVA'), (51, 65, 'VÍNO'), (8, 12, 'ROČNÍK'), (18, 20, 'HODNOCENÍ')]}), ('vinař Víno z Trboušan odrůda Svatovavřinecké body 80 barvy růžová ročníku 2022', {'entities': [(6, 21, 'VINAŘSTVÍ'), (59, 65, 'BARVA'), (29, 44, 'VÍNO'), (74, 78, 'ROČNÍK'), (50, 52, 'HODNOCENÍ')]}), ('vinař Vinařství Poppovi body 83 ročník 2021 barva bílá odrůda Muškát Ottonel', {'entities': [(6, 23, 'VINAŘSTVÍ'), (50, 54, 'BARVA'), (62, 76, 'VÍNO'), (39, 43, 'ROČNÍK'), (29, 31, 'HODNOCENÍ')]}), ('odrůda Ryzlink vlašský ročník 2022 body 71 barva růžová vinař Znovín Znojmo, a.s.', {'entities': [(62, 81, 'VINAŘSTVÍ'), (49, 55, 'BARVA'), (7, 22, 'VÍNO'), (30, 34, 'ROČNÍK'), (40, 42, 'HODNOCENÍ')]}), ('ročník 2022 body 87 vino Pálava vinař Vinařství Bouchner barvy červená', {'entities': [(38, 56, 'VINAŘSTVÍ'), (63, 70, 'BARVA'), (25, 31, 'VÍNO'), (7, 11, 'ROČNÍK'), (17, 19, 'HODNOCENÍ')]}), ('barva růžová vinařství Konečný Ladislav rok 2022 odrůda směs hodnocení 85', {'entities': [(23, 39, 'VINAŘSTVÍ'), (6, 12, 'BARVA'), (56, 60, 'VÍNO'), (44, 48, 'ROČNÍK'), (71, 73, 'HODNOCENÍ')]}), ('barvy bílá ročník 2019 vinař Lambeck, s.r.o. vino směs hodnocení 73', {'entities': [(29, 44, 'VINAŘSTVÍ'), (6, 10, 'BARVA'), (50, 54, 'VÍNO'), (18, 22, 'ROČNÍK'), (65, 67, 'HODNOCENÍ')]}), ('hodnocení 82 barvy červená vinař Huták Rudolf odrůda Rulandské modré ročník 2022', {'entities': [(33, 45, 'VINAŘSTVÍ'), (19, 26, 'BARVA'), (53, 68, 'VÍNO'), (76, 80, 'ROČNÍK'), (10, 12, 'HODNOCENÍ')]}), ('hodnocení 65 víno Pálava ročník 2022 vinařství Konečný Ladislav bílá', {'entities': [(47, 63, 'VINAŘSTVÍ'), (64, 68, 'BARVA'), (18, 24, 'VÍNO'), (32, 36, 'ROČNÍK'), (10, 12, 'HODNOCENÍ')]}), ('vinař Víno Mikulenčák body 84 odrůda Zweigeltrebe barva červená ročník 2023', {'entities': [(6, 21, 'VINAŘSTVÍ'), (56, 63, 'BARVA'), (37, 49, 'VÍNO'), (71, 75, 'ROČNÍK'), (27, 29, 'HODNOCENÍ')]}), ('hodnocení 84 vinař Smejkal Jan barvy červená odrůda Muškát moravský rok 2022', {'entities': [(19, 30, 'VINAŘSTVÍ'), (37, 44, 'BARVA'), (52, 67, 'VÍNO'), (72, 76, 'ROČNÍK'), (10, 12, 'HODNOCENÍ')]}), ('barva bílá body 68 vinařství Vinařství Hamala víno Muškát moravský ročníku 2022', {'entities': [(29, 45, 'VINAŘSTVÍ'), (6, 10, 'BARVA'), (51, 66, 'VÍNO'), (75, 79, 'ROČNÍK'), (16, 18, 'HODNOCENÍ')]}), ('body 85 vinař Vinařství Roman Komarov barvy červená odrůda Chardonnay ročníku 2022', {'entities': [(14, 37, 'VINAŘSTVÍ'), (44, 51, 'BARVA'), (59, 69, 'VÍNO'), (78, 82, 'ROČNÍK'), (5, 7, 'HODNOCENÍ')]}), ('hodnocení 68 víno Veltlínské zelené barva bílá rok 2022 vinař Klobou Bohuslav', {'entities': [(62, 77, 'VINAŘSTVÍ'), (42, 46, 'BARVA'), (18, 35, 'VÍNO'), (51, 55, 'ROČNÍK'), (10, 12, 'HODNOCENÍ')]}), ('barvy červená body 86 vinařství Ryšavý Jan odrůda Svatovavřinecké ročníku 2022', {'entities': [(32, 42, 'VINAŘSTVÍ'), (6, 13, 'BARVA'), (50, 65, 'VÍNO'), (74, 78, 'ROČNÍK'), (19, 21, 'HODNOCENÍ')]}), ('ročníku 2022 barva bílá vinař Špíšek Milan body nehodnoceno vino Veltlínské zelené', {'entities': [(30, 42, 'VINAŘSTVÍ'), (19, 23, 'BARVA'), (65, 82, 'VÍNO'), (8, 12, 'ROČNÍK'), (48, 59, 'HODNOCENÍ')]}), ('barvy červená vinař Huška Tomáš body 65 ročníku 2021 odrůda Pálava', {'entities': [(20, 31, 'VINAŘSTVÍ'), (6, 13, 'BARVA'), (60, 66, 'VÍNO'), (48, 52, 'ROČNÍK'), (37, 39, 'HODNOCENÍ')]}), ('hodnocení 72 vinař Šabata Pavel rok 2021 bílá vino Pálava', {'entities': [(19, 31, 'VINAŘSTVÍ'), (41, 45, 'BARVA'), (51, 57, 'VÍNO'), (36, 40, 'ROČNÍK'), (10, 12, 'HODNOCENÍ')]}), ('vinař Vinařství Olejník vino Ryzlink rýnský barvy bílá body 70 ročníku 2020', {'entities': [(6, 23, 'VINAŘSTVÍ'), (50, 54, 'BARVA'), (29, 43, 'VÍNO'), (71, 75, 'ROČNÍK'), (60, 62, 'HODNOCENÍ')]}), ('ročníku 2022 hodnocení 82 vinař Vinařství Habřina barvy červená odrůda Sauvignon', {'entities': [(32, 49, 'VINAŘSTVÍ'), (56, 63, 'BARVA'), (71, 80, 'VÍNO'), (8, 12, 'ROČNÍK'), (23, 25, 'HODNOCENÍ')]}), ('vino Ryzlink rýnský barva růžová vinař Cukr Josef ročníku 0 body 84', {'entities': [(39, 49, 'VINAŘSTVÍ'), (26, 32, 'BARVA'), (5, 19, 'VÍNO'), (58, 59, 'ROČNÍK'), (65, 67, 'HODNOCENÍ')]}), ('vino Rulandské modré hodnocení 78 barva růžová vinař Bělehrádek Lubomír ročníku 2022', {'entities': [(53, 71, 'VINAŘSTVÍ'), (40, 46, 'BARVA'), (5, 20, 'VÍNO'), (80, 84, 'ROČNÍK'), (31, 33, 'HODNOCENÍ')]}), ('víno Sauvignon ročníku 2021 body 84 vinař Privarčák Jan barvy bílá', {'entities': [(42, 55, 'VINAŘSTVÍ'), (62, 66, 'BARVA'), (5, 14, 'VÍNO'), (23, 27, 'ROČNÍK'), (33, 35, 'HODNOCENÍ')]}), ('ročník 2022 barvy bílá vinařství Horký Petr víno Ryzlink rýnský hodnocení 81', {'entities': [(33, 43, 'VINAŘSTVÍ'), (18, 22, 'BARVA'), (49, 63, 'VÍNO'), (7, 11, 'ROČNÍK'), (74, 76, 'HODNOCENÍ')]}), ('ročníku 2022 vinařství Šťastný Jiří body 86 barva bílá vino Tramín červený', {'entities': [(23, 35, 'VINAŘSTVÍ'), (50, 54, 'BARVA'), (60, 74, 'VÍNO'), (8, 12, 'ROČNÍK'), (41, 43, 'HODNOCENÍ')]}), ('hodnocení 82 ročník 2022 vinař Tasovické vinařství odrůda Müller Thurgau růžová', {'entities': [(31, 50, 'VINAŘSTVÍ'), (73, 79, 'BARVA'), (58, 72, 'VÍNO'), (20, 24, 'ROČNÍK'), (10, 12, 'HODNOCENÍ')]}), ('body 86 víno Pálava barva růžová rok 2021 vinařství Huška Tomáš', {'entities': [(52, 63, 'VINAŘSTVÍ'), (26, 32, 'BARVA'), (13, 19, 'VÍNO'), (37, 41, 'ROČNÍK'), (5, 7, 'HODNOCENÍ')]}), ('ročník 2022 odrůda Hibernal vinařství Macháček Pavel hodnocení 92 barvy bílá', {'entities': [(38, 52, 'VINAŘSTVÍ'), (72, 76, 'BARVA'), (19, 27, 'VÍNO'), (7, 11, 'ROČNÍK'), (63, 65, 'HODNOCENÍ')]}), ('barvy růžová body 73 vino Svatovavřinecké vinař Víno z Trboušan ročník 2022', {'entities': [(48, 63, 'VINAŘSTVÍ'), (6, 12, 'BARVA'), (26, 41, 'VÍNO'), (71, 75, 'ROČNÍK'), (18, 20, 'HODNOCENÍ')]}), ('rok 2022 hodnocení 73 vinařství Vinařství Vystoupil bílá vino Veltlínské zelené', {'entities': [(32, 51, 'VINAŘSTVÍ'), (52, 56, 'BARVA'), (62, 79, 'VÍNO'), (4, 8, 'ROČNÍK'), (19, 21, 'HODNOCENÍ')]}), ('vinařství Adámkovo vinařství s.r.o. odrůda Chardonnay rok 2023 barvy růžová body 82', {'entities': [(10, 35, 'VINAŘSTVÍ'), (69, 75, 'BARVA'), (43, 53, 'VÍNO'), (58, 62, 'ROČNÍK'), (81, 83, 'HODNOCENÍ')]}), ('vinař Špíšek Milan rok 2023 odrůda Neronet barvy bílá body 83', {'entities': [(6, 18, 'VINAŘSTVÍ'), (49, 53, 'BARVA'), (35, 42, 'VÍNO'), (23, 27, 'ROČNÍK'), (59, 61, 'HODNOCENÍ')]}), ('odrůda Hibernal hodnocení 83 ročníku 2023 vinařství Macháček Pavel barvy bílá', {'entities': [(52, 66, 'VINAŘSTVÍ'), (73, 77, 'BARVA'), (7, 15, 'VÍNO'), (37, 41, 'ROČNÍK'), (26, 28, 'HODNOCENÍ')]}), ('barvy bílá rok 2021 vino Rulandské modré body 77 vinařství Vinařství Thaya', {'entities': [(59, 74, 'VINAŘSTVÍ'), (6, 10, 'BARVA'), (25, 40, 'VÍNO'), (15, 19, 'ROČNÍK'), (46, 48, 'HODNOCENÍ')]}), ('odrůda Hibernal vinař Musil Miroslav hodnocení 87 barva růžová rok 2022', {'entities': [(22, 36, 'VINAŘSTVÍ'), (56, 62, 'BARVA'), (7, 15, 'VÍNO'), (67, 71, 'ROČNÍK'), (47, 49, 'HODNOCENÍ')]}), ('body nehodnoceno barva bílá vinařství Šindelka Jan ročníku 2023 vino Cabernet Moravia', {'entities': [(38, 50, 'VINAŘSTVÍ'), (23, 27, 'BARVA'), (69, 85, 'VÍNO'), (59, 63, 'ROČNÍK'), (5, 16, 'HODNOCENÍ')]}), ('bílá ročníku 2022 body 80 vinař Měřinský Petr odrůda Pálava', {'entities': [(32, 45, 'VINAŘSTVÍ'), (0, 4, 'BARVA'), (53, 59, 'VÍNO'), (13, 17, 'ROČNÍK'), (23, 25, 'HODNOCENÍ')]}), ('vinař Vinařství Košulič vino Hibernal ročník 2022 hodnocení 82 červená', {'entities': [(6, 23, 'VINAŘSTVÍ'), (63, 70, 'BARVA'), (29, 37, 'VÍNO'), (45, 49, 'ROČNÍK'), (60, 62, 'HODNOCENÍ')]}), ('vinařství Turčínek Pavel víno Svatovavřinecké hodnocení 83 ročníku 2023 barvy bílá', {'entities': [(10, 24, 'VINAŘSTVÍ'), (78, 82, 'BARVA'), (30, 45, 'VÍNO'), (67, 71, 'ROČNÍK'), (56, 58, 'HODNOCENÍ')]}), ('vinařství Vinařství Sonberk vino Sauvignon barvy růžová hodnocení 78 ročník 2018', {'entities': [(10, 27, 'VINAŘSTVÍ'), (49, 55, 'BARVA'), (33, 42, 'VÍNO'), (76, 80, 'ROČNÍK'), (66, 68, 'HODNOCENÍ')]}), ('hodnocení 69 vinařství Böhm Radek barvy růžová vino Rulandské bílé rok 0', {'entities': [(23, 33, 'VINAŘSTVÍ'), (40, 46, 'BARVA'), (52, 66, 'VÍNO'), (71, 72, 'ROČNÍK'), (10, 12, 'HODNOCENÍ')]}), ('víno Hibernal barva růžová vinařství Vinařství Košulič ročník 2022 body 60', {'entities': [(37, 54, 'VINAŘSTVÍ'), (20, 26, 'BARVA'), (5, 13, 'VÍNO'), (62, 66, 'ROČNÍK'), (72, 74, 'HODNOCENÍ')]}), ('vinařství Turčínek Jan ml. barva růžová rok 2023 odrůda Ryzlink vlašský body 80', {'entities': [(10, 26, 'VINAŘSTVÍ'), (33, 39, 'BARVA'), (56, 71, 'VÍNO'), (44, 48, 'ROČNÍK'), (77, 79, 'HODNOCENÍ')]}), ('hodnocení 81 rok 2022 vino Ryzlink rýnský vinař Adámkovi J. a A. červená', {'entities': [(48, 64, 'VINAŘSTVÍ'), (65, 72, 'BARVA'), (27, 41, 'VÍNO'), (17, 21, 'ROČNÍK'), (10, 12, 'HODNOCENÍ')]}), ('vinař Huška Tomáš víno Cabernet Moravia body 88 ročník 2022 barva růžová', {'entities': [(6, 17, 'VINAŘSTVÍ'), (66, 72, 'BARVA'), (23, 39, 'VÍNO'), (55, 59, 'ROČNÍK'), (45, 47, 'HODNOCENÍ')]}), ('vinařství Adámkovi J. a A. barvy červená rok 2021 vino směs hodnocení 85', {'entities': [(10, 26, 'VINAŘSTVÍ'), (33, 40, 'BARVA'), (55, 59, 'VÍNO'), (45, 49, 'ROČNÍK'), (70, 72, 'HODNOCENÍ')]}), ('body 73 bílá vinař Kořenek winary s.r.o. rok 2023 vino směs', {'entities': [(19, 40, 'VINAŘSTVÍ'), (8, 12, 'BARVA'), (55, 59, 'VÍNO'), (45, 49, 'ROČNÍK'), (5, 7, 'HODNOCENÍ')]}), ('barva růžová body 75 ročníku 2018 víno směs vinař Znovín Znojmo, a.s.', {'entities': [(50, 69, 'VINAŘSTVÍ'), (6, 12, 'BARVA'), (39, 43, 'VÍNO'), (29, 33, 'ROČNÍK'), (18, 20, 'HODNOCENÍ')]}), ('vinařství Adámkovi J. a A. vino Pálava hodnocení 82 rok 2021 barvy bílá', {'entities': [(10, 26, 'VINAŘSTVÍ'), (67, 71, 'BARVA'), (32, 38, 'VÍNO'), (56, 60, 'ROČNÍK'), (49, 51, 'HODNOCENÍ')]}), ('ročník 2013 vino Cabernet Sauvignon barvy růžová vinařství Šmukař Josef hodnocení 83', {'entities': [(59, 71, 'VINAŘSTVÍ'), (42, 48, 'BARVA'), (17, 35, 'VÍNO'), (7, 11, 'ROČNÍK'), (82, 84, 'HODNOCENÍ')]}), ('vino Muškát moravský vinař Vranka Libor ročník 2022 body 80 bílá', {'entities': [(27, 39, 'VINAŘSTVÍ'), (60, 64, 'BARVA'), (5, 20, 'VÍNO'), (47, 51, 'ROČNÍK'), (57, 59, 'HODNOCENÍ')]}), ('hodnocení 83 barvy červená odrůda směs vinařství Svoboda Pavel rok 2022', {'entities': [(49, 62, 'VINAŘSTVÍ'), (19, 26, 'BARVA'), (34, 38, 'VÍNO'), (67, 71, 'ROČNÍK'), (10, 12, 'HODNOCENÍ')]}), ('vino Ryzlink rýnský rok 2022 body 65 vinařství Vinařství Hamala barvy červená', {'entities': [(47, 63, 'VINAŘSTVÍ'), (70, 77, 'BARVA'), (5, 19, 'VÍNO'), (24, 28, 'ROČNÍK'), (34, 36, 'HODNOCENÍ')]}), ('vinařství Vinařství Thaya barva červená rok 2021 body 78 vino Rulandské modré', {'entities': [(10, 25, 'VINAŘSTVÍ'), (32, 39, 'BARVA'), (62, 77, 'VÍNO'), (44, 48, 'ROČNÍK'), (54, 56, 'HODNOCENÍ')]}), ('vinař Táborský Jiří hodnocení 86 barvy bílá odrůda Frankovka ročníku 2023', {'entities': [(6, 19, 'VINAŘSTVÍ'), (39, 43, 'BARVA'), (51, 60, 'VÍNO'), (69, 73, 'ROČNÍK'), (30, 32, 'HODNOCENÍ')]}), ('body 83 odrůda Pálava barva bílá vinař Víno Mikulenčák rok 2021', {'entities': [(39, 54, 'VINAŘSTVÍ'), (28, 32, 'BARVA'), (15, 21, 'VÍNO'), (59, 63, 'ROČNÍK'), (5, 7, 'HODNOCENÍ')]}), ('ročníku 2021 barva bílá body 78 vinařství Šťastné Vinařství vino Muškát moravský', {'entities': [(42, 59, 'VINAŘSTVÍ'), (19, 23, 'BARVA'), (65, 80, 'VÍNO'), (8, 12, 'ROČNÍK'), (29, 31, 'HODNOCENÍ')]}), ('body 71 víno Svatovavřinecké ročníku 2020 vinař Strýček Josef barvy bílá', {'entities': [(48, 61, 'VINAŘSTVÍ'), (68, 72, 'BARVA'), (13, 28, 'VÍNO'), (37, 41, 'ROČNÍK'), (5, 7, 'HODNOCENÍ')]}), ('vinař Böhm Radek vino Frankovka rok 2019 body 90 barvy růžová', {'entities': [(6, 16, 'VINAŘSTVÍ'), (55, 61, 'BARVA'), (22, 31, 'VÍNO'), (36, 40, 'ROČNÍK'), (46, 48, 'HODNOCENÍ')]}), ('ročníku 2021 barvy bílá vinařství Vinařství Olejník hodnocení 85 odrůda Pálava', {'entities': [(34, 51, 'VINAŘSTVÍ'), (19, 23, 'BARVA'), (72, 78, 'VÍNO'), (8, 12, 'ROČNÍK'), (62, 64, 'HODNOCENÍ')]}), ('vinařství Švehlík Zbyněk barva bílá hodnocení 80 víno Ryzlink vlašský ročníku 2022', {'entities': [(10, 24, 'VINAŘSTVÍ'), (31, 35, 'BARVA'), (54, 69, 'VÍNO'), (78, 82, 'ROČNÍK'), (46, 48, 'HODNOCENÍ')]}), ('vinařství Šabata Pavel hodnocení 79 ročník 2021 červená vino Veltlínské zelené', {'entities': [(10, 22, 'VINAŘSTVÍ'), (48, 55, 'BARVA'), (61, 78, 'VÍNO'), (43, 47, 'ROČNÍK'), (33, 35, 'HODNOCENÍ')]}), ('barvy růžová rok 2022 vino Rulandské šedé body 79 vinařství Kratochvíl František ml.', {'entities': [(60, 84, 'VINAŘSTVÍ'), (6, 12, 'BARVA'), (27, 41, 'VÍNO'), (17, 21, 'ROČNÍK'), (47, 49, 'HODNOCENÍ')]}), ('vino Pálava barvy růžová vinař Vinařství Hamala ročníku 2022 body 80', {'entities': [(31, 47, 'VINAŘSTVÍ'), (18, 24, 'BARVA'), (5, 11, 'VÍNO'), (56, 60, 'ROČNÍK'), (66, 68, 'HODNOCENÍ')]}), ('body 82 barvy růžová vinař Hrdlička Miloslav rok 2022 vino Rulandské bílé', {'entities': [(27, 44, 'VINAŘSTVÍ'), (14, 20, 'BARVA'), (59, 73, 'VÍNO'), (49, 53, 'ROČNÍK'), (5, 7, 'HODNOCENÍ')]}), ('body 71 barva bílá ročník 2021 odrůda Tramín červený vinař Vinný skípek u Hanzelů', {'entities': [(59, 81, 'VINAŘSTVÍ'), (14, 18, 'BARVA'), (38, 52, 'VÍNO'), (26, 30, 'ROČNÍK'), (5, 7, 'HODNOCENÍ')]}), ('body 84 barva červená odrůda Cabernet Sauvignon ročníku 2022 vinařství Huška Tomáš', {'entities': [(71, 82, 'VINAŘSTVÍ'), (14, 21, 'BARVA'), (29, 47, 'VÍNO'), (56, 60, 'ROČNÍK'), (5, 7, 'HODNOCENÍ')]}), ('vinař Smejkal Jan bílá body 82 víno Veltlínské zelené rok 2023', {'entities': [(6, 17, 'VINAŘSTVÍ'), (18, 22, 'BARVA'), (36, 53, 'VÍNO'), (58, 62, 'ROČNÍK'), (28, 30, 'HODNOCENÍ')]}), ('body 84 odrůda Ryzlink rýnský rok 2017 barva červená vinařství Paulík Josef', {'entities': [(63, 75, 'VINAŘSTVÍ'), (45, 52, 'BARVA'), (15, 29, 'VÍNO'), (34, 38, 'ROČNÍK'), (5, 7, 'HODNOCENÍ')]}), ('rok 2022 hodnocení 75 víno Sylvánské zelené barvy růžová vinařství Vinařství Thaya', {'entities': [(67, 82, 'VINAŘSTVÍ'), (50, 56, 'BARVA'), (27, 43, 'VÍNO'), (4, 8, 'ROČNÍK'), (19, 21, 'HODNOCENÍ')]}), ('vinař Kořenek winary s.r.o. odrůda Rulandské šedé barva bílá ročník 2022 body 81', {'entities': [(6, 27, 'VINAŘSTVÍ'), (56, 60, 'BARVA'), (35, 49, 'VÍNO'), (68, 72, 'ROČNÍK'), (78, 80, 'HODNOCENÍ')]}), ('vinař Černá Jitka body 81 odrůda Frankovka rok 2022 růžová', {'entities': [(6, 17, 'VINAŘSTVÍ'), (52, 58, 'BARVA'), (33, 42, 'VÍNO'), (47, 51, 'ROČNÍK'), (23, 25, 'HODNOCENÍ')]}), ('hodnocení 89 vino Hibernal vinař Dvořák Zdeněk rok 2022 bílá', {'entities': [(33, 46, 'VINAŘSTVÍ'), (56, 60, 'BARVA'), (18, 26, 'VÍNO'), (51, 55, 'ROČNÍK'), (10, 12, 'HODNOCENÍ')]}), ('rok 2022 víno Rulandské bílé barva růžová vinař Adámkovo vinařství s.r.o. body 83', {'entities': [(48, 73, 'VINAŘSTVÍ'), (35, 41, 'BARVA'), (14, 28, 'VÍNO'), (4, 8, 'ROČNÍK'), (79, 81, 'HODNOCENÍ')]}), ('vinařství Vinařství Sonberk body 80 ročník 2021 víno Svatovavřinecké barva bílá', {'entities': [(10, 27, 'VINAŘSTVÍ'), (75, 79, 'BARVA'), (53, 68, 'VÍNO'), (43, 47, 'ROČNÍK'), (33, 35, 'HODNOCENÍ')]}), ('barvy růžová vinařství Janda Lubomír ročníku 2022 hodnocení 83 vino směs', {'entities': [(23, 36, 'VINAŘSTVÍ'), (6, 12, 'BARVA'), (68, 72, 'VÍNO'), (45, 49, 'ROČNÍK'), (60, 62, 'HODNOCENÍ')]}), ('hodnocení 76 vinař Znovín Znojmo, a.s. ročník 2019 víno Rulandské bílé růžová', {'entities': [(19, 38, 'VINAŘSTVÍ'), (71, 77, 'BARVA'), (56, 70, 'VÍNO'), (46, 50, 'ROČNÍK'), (10, 12, 'HODNOCENÍ')]}), ('vinařství Zmrzlý Zdeněk ročníku 2023 bílá hodnocení 88 odrůda Rulandské modré', {'entities': [(10, 23, 'VINAŘSTVÍ'), (37, 41, 'BARVA'), (62, 77, 'VÍNO'), (32, 36, 'ROČNÍK'), (52, 54, 'HODNOCENÍ')]}), ('body 82 vino Sylvánské modré vinařství Kořenek winary s.r.o. ročník 2022 barva bílá', {'entities': [(39, 60, 'VINAŘSTVÍ'), (79, 83, 'BARVA'), (13, 28, 'VÍNO'), (68, 72, 'ROČNÍK'), (5, 7, 'HODNOCENÍ')]}), ('hodnocení 84 barva bílá ročník 2022 vinařství Janda Lubomír odrůda směs', {'entities': [(46, 59, 'VINAŘSTVÍ'), (19, 23, 'BARVA'), (67, 71, 'VÍNO'), (31, 35, 'ROČNÍK'), (10, 12, 'HODNOCENÍ')]}), ('rok 2023 víno Rulandské bílé vinař Vinné sklepy Maršovice body 87 barva červená', {'entities': [(35, 57, 'VINAŘSTVÍ'), (72, 79, 'BARVA'), (14, 28, 'VÍNO'), (4, 8, 'ROČNÍK'), (63, 65, 'HODNOCENÍ')]}), ('body 82 ročník 2021 víno Veltlínské zelené vinařství Lambeck, s.r.o. barvy bílá', {'entities': [(53, 68, 'VINAŘSTVÍ'), (75, 79, 'BARVA'), (25, 42, 'VÍNO'), (15, 19, 'ROČNÍK'), (5, 7, 'HODNOCENÍ')]}), ('ročník 2023 červená vino Neuburské body 87 vinař Táborský Jiří', {'entities': [(49, 62, 'VINAŘSTVÍ'), (12, 19, 'BARVA'), (25, 34, 'VÍNO'), (7, 11, 'ROČNÍK'), (40, 42, 'HODNOCENÍ')]}), ('barva červená hodnocení 90 vinař Vinařství Habřina rok 2022 vino Chardonnay', {'entities': [(33, 50, 'VINAŘSTVÍ'), (6, 13, 'BARVA'), (65, 75, 'VÍNO'), (55, 59, 'ROČNÍK'), (24, 26, 'HODNOCENÍ')]})]\n"
     ]
    }
   ],
   "source": [
    "import json\n",
    "\n",
    "# Step 2: Open the JSON file\n",
    "with open('generated_train_data/ner_tagged_sentences.json', 'r', encoding='utf-8') as file:\n",
    "    # Step 3: Load the JSON data\n",
    "    data = json.load(file)\n",
    "TRAINING_DATA2 = []\n",
    "ner_labels = data[\"classes\"]\n",
    "for item in data[\"annotations\"]:\n",
    "    text = item[0].strip()  # Get the text and strip any extra whitespace\n",
    "    entities = item[1][\"entities\"]\n",
    "    \n",
    "    # Create a dictionary for the current sentence's entities\n",
    "    entities_formatted = {\"entities\": [(start, end, label) for start, end, label in entities]}\n",
    "    \n",
    "    # Append the tuple (text, entities) to the training data\n",
    "    TRAINING_DATA2.append((text, entities_formatted))\n",
    "\n",
    "print(TRAINING_DATA2)"
   ]
  },
  {
   "cell_type": "code",
   "execution_count": 3,
   "metadata": {},
   "outputs": [
    {
     "name": "stdout",
     "output_type": "stream",
     "text": [
      "['VINAŘSTVÍ', 'BARVA', 'ROČNÍK', 'HODNOCENÍ', 'VÍNO']\n"
     ]
    }
   ],
   "source": [
    "# Přidání labelů do NER\n",
    "print(ner_labels)\n",
    "for label in ner_labels:\n",
    "    ner.add_label(label)\n",
    "    # for ent in annotations.get(\"entities\"):\n",
    "    #     print(ent[2])\n",
    "        # ner.add_label(ent[2])"
   ]
  },
  {
   "cell_type": "code",
   "execution_count": 4,
   "metadata": {},
   "outputs": [],
   "source": [
    "# Split the data into training and testing sets\n",
    "train_data, test_data = train_test_split(TRAINING_DATA2, test_size=0.2, random_state=42)"
   ]
  },
  {
   "cell_type": "code",
   "execution_count": 5,
   "metadata": {},
   "outputs": [],
   "source": [
    "# Helper function to train the model\n",
    "import random\n",
    "\n",
    "def train_spacy_model(train_data, n_iter=10):\n",
    "    optimizer = nlp.begin_training()\n",
    "    \n",
    "    for i in range(n_iter):\n",
    "        random.shuffle(train_data)\n",
    "        losses = {}\n",
    "        batches = minibatch(train_data, size=8)\n",
    "        for batch in batches:\n",
    "            for text, annotations in batch:\n",
    "                doc = nlp.make_doc(text)\n",
    "                example = Example.from_dict(doc, annotations)\n",
    "                nlp.update([example], drop=0.5, sgd=optimizer, losses=losses)\n",
    "        print(f\"Iteration {i+1}, Loss: {losses['ner']}\")\n",
    "    \n",
    "    return nlp\n",
    "\n",
    "# Začátek tréninku\n",
    "# optimizer = nlp.begin_training()\n",
    "\n",
    "# # Trénovací smyčka\n",
    "# for i in range(10):  # Trénuj 10 epoch\n",
    "#     for text, annotations in TRAINING_DATA2:\n",
    "#         example = Example.from_dict(nlp.make_doc(text), annotations)\n",
    "#         nlp.update([example], sgd=optimizer)"
   ]
  },
  {
   "cell_type": "code",
   "execution_count": 6,
   "metadata": {},
   "outputs": [
    {
     "name": "stdout",
     "output_type": "stream",
     "text": [
      "Iteration 1, Loss: 880.709228515625\n",
      "Iteration 2, Loss: 307.9981994628906\n",
      "Iteration 3, Loss: 173.9748992919922\n",
      "Iteration 4, Loss: 97.5755615234375\n",
      "Iteration 5, Loss: 45.157386779785156\n",
      "Iteration 6, Loss: 36.13926315307617\n",
      "Iteration 7, Loss: 36.9430046081543\n",
      "Iteration 8, Loss: 22.2249698638916\n",
      "Iteration 9, Loss: 25.415800094604492\n",
      "Iteration 10, Loss: 26.5167293548584\n",
      "<spacy.lang.cs.Czech object at 0x000001DAF8CE3A30>\n"
     ]
    }
   ],
   "source": [
    "# Train the model\n",
    "trained_nlp = train_spacy_model(train_data)\n",
    "print(trained_nlp)\n",
    "trained_nlp.to_disk(\"models/wine_ner_model\")"
   ]
  },
  {
   "cell_type": "code",
   "execution_count": 13,
   "metadata": {},
   "outputs": [],
   "source": [
    "test_sentences = [\n",
    "    \"Vinařství Adámkovi J. a A. barva červená víno Chrupka ročník 2022 hodnocení 85\",\n",
    "    \"Vinařství Charvát Zdeněk barva vína bílá víno Chardonnay rok 2024 body 87\",\n",
    "    \"barva vína bílá víno Ryzlink rýnský Vinařství Buchtík Zdeněk rok 2023 hodnocení 86\",\n",
    "    \"Vinařství Turčínek Pavel bílá vino Hibernal ročník 2020 hodnocení 85\",\n",
    "]"
   ]
  },
  {
   "cell_type": "code",
   "execution_count": 7,
   "metadata": {},
   "outputs": [],
   "source": [
    "import matplotlib.pyplot as plt\n",
    "from spacy.scorer import Scorer\n",
    "\n",
    "# Evaluate the model\n",
    "def evaluate_model(nlp, test_data):\n",
    "    examples = []\n",
    "    for text, annotations in test_data:\n",
    "        doc = nlp(text)\n",
    "        example = Example.from_dict(doc, annotations)\n",
    "        examples.append(example)\n",
    "    \n",
    "    # Scorer method expects a list of examples\n",
    "    scores = nlp.evaluate(examples)\n",
    "    return scores"
   ]
  },
  {
   "cell_type": "code",
   "execution_count": 15,
   "metadata": {},
   "outputs": [
    {
     "name": "stdout",
     "output_type": "stream",
     "text": [
      "0.99\n"
     ]
    }
   ],
   "source": [
    "# Get the evaluation metrics\n",
    "scores = evaluate_model(trained_nlp, test_data)\n",
    "\n",
    "# Extract precision, recall, and F1-score\n",
    "precision = scores[\"ents_p\"]\n",
    "recall = scores[\"ents_r\"]\n",
    "f_score = scores[\"ents_f\"]\n",
    "\n",
    "print(precision)"
   ]
  },
  {
   "cell_type": "code",
   "execution_count": 9,
   "metadata": {},
   "outputs": [
    {
     "data": {
      "image/png": "[encoded data removed]",
      "text/plain": [
       "<Figure size 800x500 with 1 Axes>"
      ]
     },
     "metadata": {},
     "output_type": "display_data"
    }
   ],
   "source": [
    "# Plot the results\n",
    "def plot_metrics(precision, recall, f_score):\n",
    "    metrics = [\"Precision\", \"Recall\", \"F1-Score\"]\n",
    "    scores = [precision, recall, f_score]\n",
    "    \n",
    "    plt.figure(figsize=(8, 5))\n",
    "    plt.bar(metrics, scores, color=['blue', 'green', 'red'])\n",
    "    plt.ylim([0, 1])\n",
    "    plt.title(\"Model Performance\")\n",
    "    plt.ylabel(\"Score\")\n",
    "    for i, score in enumerate(scores):\n",
    "        plt.text(i, score + 0.02, f\"{score:.2f}\", ha='center', fontsize=12)\n",
    "    plt.show()\n",
    "\n",
    "# Plot the performance metrics\n",
    "plot_metrics(precision, recall, f_score)"
   ]
  },
  {
   "cell_type": "code",
   "execution_count": 16,
   "metadata": {},
   "outputs": [
    {
     "name": "stdout",
     "output_type": "stream",
     "text": [
      "Test sentence: Vinařství Adámkovi J. a A. barva červená víno Chrupka ročník 2022 hodnocení 85\n",
      "Entity: Vinařství Adámkovi J. a A., Label: VINAŘSTVÍ\n",
      "Entity: červená, Label: BARVA\n",
      "Entity: Chrupka, Label: VÍNO\n",
      "Entity: 2022, Label: ROČNÍK\n",
      "Entity: 85, Label: HODNOCENÍ\n",
      "\n",
      "Test sentence: Vinařství Charvát Zdeněk barva vína bílá víno Chardonnay rok 2024 body 87\n",
      "Entity: Vinařství Charvát Zdeněk, Label: VINAŘSTVÍ\n",
      "Entity: bílá, Label: BARVA\n",
      "Entity: Chardonnay, Label: VÍNO\n",
      "Entity: 2024, Label: ROČNÍK\n",
      "Entity: 87, Label: HODNOCENÍ\n",
      "\n",
      "Test sentence: barva vína bílá víno Ryzlink rýnský Vinařství Buchtík Zdeněk rok 2023 hodnocení 86\n",
      "Entity: bílá, Label: BARVA\n",
      "Entity: Ryzlink rýnský, Label: VÍNO\n",
      "Entity: Vinařství Buchtík Zdeněk, Label: VINAŘSTVÍ\n",
      "Entity: 2023, Label: ROČNÍK\n",
      "Entity: 86, Label: HODNOCENÍ\n",
      "\n",
      "Test sentence: Vinařství Turčínek Pavel bílá vino Hibernal ročník 2020 hodnocení 85\n",
      "Entity: Vinařství Turčínek Pavel, Label: VINAŘSTVÍ\n",
      "Entity: bílá, Label: BARVA\n",
      "Entity: Hibernal, Label: VÍNO\n",
      "Entity: 2020, Label: ROČNÍK\n",
      "Entity: 85, Label: HODNOCENÍ\n",
      "\n"
     ]
    }
   ],
   "source": [
    "for sentence in test_sentences:\n",
    "    doc = nlp(sentence)\n",
    "    print(f\"Test sentence: {sentence}\")\n",
    "    for ent in doc.ents:\n",
    "        print(f\"Entity: {ent.text}, Label: {ent.label_}\")\n",
    "    print()"
   ]
  }
 ],
 "metadata": {
  "kernelspec": {
   "display_name": "Python 3",
   "language": "python",
   "name": "python3"
  },
  "language_info": {
   "codemirror_mode": {
    "name": "ipython",
    "version": 3
   },
   "file_extension": ".py",
   "mimetype": "text/x-python",
   "name": "python",
   "nbconvert_exporter": "python",
   "pygments_lexer": "ipython3",
   "version": "3.10.6"
  }
 },
 "nbformat": 4,
 "nbformat_minor": 2
}
